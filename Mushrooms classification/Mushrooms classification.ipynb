{
 "cells": [
  {
   "cell_type": "markdown",
   "id": "172e08cc",
   "metadata": {},
   "source": [
    "# Categorical Support Vector Classifier"
   ]
  },
  {
   "cell_type": "markdown",
   "id": "80a3645b",
   "metadata": {},
   "source": [
    "## Imports"
   ]
  },
  {
   "cell_type": "code",
   "execution_count": 32,
   "id": "666679d6",
   "metadata": {},
   "outputs": [],
   "source": [
    "import pandas as pd \n",
    "from sklearn.preprocessing import MinMaxScaler \n",
    "from sklearn.model_selection import train_test_split \n",
    "from sklearn.preprocessing import LabelEncoder, OrdinalEncoder \n",
    "from sklearn import svm, datasets\n",
    "import matplotlib.pyplot as plt\n",
    "from sklearn.metrics import confusion_matrix, accuracy_score, precision_score, recall_score, \\\n",
    "f1_score, classification_report,ConfusionMatrixDisplay\n",
    "from sklearn.model_selection import GridSearchCV \n",
    "from sklearn.metrics import classification_report \n",
    "\n",
    "import matplotlib.pyplot as plt\n",
    "import seaborn as sns"
   ]
  },
  {
   "cell_type": "markdown",
   "id": "15dffb24",
   "metadata": {},
   "source": [
    "## Loading the database"
   ]
  },
  {
   "cell_type": "markdown",
   "id": "96c9af14",
   "metadata": {},
   "source": [
    "#### Read the csv file and study the database"
   ]
  },
  {
   "cell_type": "code",
   "execution_count": 3,
   "id": "8b40ed58",
   "metadata": {},
   "outputs": [
    {
     "data": {
      "text/html": [
       "<div>\n",
       "<style scoped>\n",
       "    .dataframe tbody tr th:only-of-type {\n",
       "        vertical-align: middle;\n",
       "    }\n",
       "\n",
       "    .dataframe tbody tr th {\n",
       "        vertical-align: top;\n",
       "    }\n",
       "\n",
       "    .dataframe thead th {\n",
       "        text-align: right;\n",
       "    }\n",
       "</style>\n",
       "<table border=\"1\" class=\"dataframe\">\n",
       "  <thead>\n",
       "    <tr style=\"text-align: right;\">\n",
       "      <th></th>\n",
       "      <th>poisonous</th>\n",
       "      <th>cap-shape</th>\n",
       "      <th>cap-surface</th>\n",
       "      <th>cap-color</th>\n",
       "      <th>bruises</th>\n",
       "      <th>odor</th>\n",
       "      <th>gill-attachment</th>\n",
       "      <th>gill-spacing</th>\n",
       "      <th>gill-size</th>\n",
       "      <th>gill-color</th>\n",
       "      <th>...</th>\n",
       "      <th>stalk-surface-below-ring</th>\n",
       "      <th>stalk-color-above-ring</th>\n",
       "      <th>stalk-color-below-ring</th>\n",
       "      <th>veil-type</th>\n",
       "      <th>veil-color</th>\n",
       "      <th>ring-number</th>\n",
       "      <th>ring-type</th>\n",
       "      <th>spore-print-color</th>\n",
       "      <th>population</th>\n",
       "      <th>habitat</th>\n",
       "    </tr>\n",
       "  </thead>\n",
       "  <tbody>\n",
       "    <tr>\n",
       "      <th>0</th>\n",
       "      <td>p</td>\n",
       "      <td>x</td>\n",
       "      <td>s</td>\n",
       "      <td>n</td>\n",
       "      <td>t</td>\n",
       "      <td>p</td>\n",
       "      <td>f</td>\n",
       "      <td>c</td>\n",
       "      <td>n</td>\n",
       "      <td>k</td>\n",
       "      <td>...</td>\n",
       "      <td>s</td>\n",
       "      <td>w</td>\n",
       "      <td>w</td>\n",
       "      <td>p</td>\n",
       "      <td>w</td>\n",
       "      <td>o</td>\n",
       "      <td>p</td>\n",
       "      <td>k</td>\n",
       "      <td>s</td>\n",
       "      <td>u</td>\n",
       "    </tr>\n",
       "    <tr>\n",
       "      <th>1</th>\n",
       "      <td>e</td>\n",
       "      <td>x</td>\n",
       "      <td>s</td>\n",
       "      <td>y</td>\n",
       "      <td>t</td>\n",
       "      <td>a</td>\n",
       "      <td>f</td>\n",
       "      <td>c</td>\n",
       "      <td>b</td>\n",
       "      <td>k</td>\n",
       "      <td>...</td>\n",
       "      <td>s</td>\n",
       "      <td>w</td>\n",
       "      <td>w</td>\n",
       "      <td>p</td>\n",
       "      <td>w</td>\n",
       "      <td>o</td>\n",
       "      <td>p</td>\n",
       "      <td>n</td>\n",
       "      <td>n</td>\n",
       "      <td>g</td>\n",
       "    </tr>\n",
       "    <tr>\n",
       "      <th>2</th>\n",
       "      <td>e</td>\n",
       "      <td>b</td>\n",
       "      <td>s</td>\n",
       "      <td>w</td>\n",
       "      <td>t</td>\n",
       "      <td>l</td>\n",
       "      <td>f</td>\n",
       "      <td>c</td>\n",
       "      <td>b</td>\n",
       "      <td>n</td>\n",
       "      <td>...</td>\n",
       "      <td>s</td>\n",
       "      <td>w</td>\n",
       "      <td>w</td>\n",
       "      <td>p</td>\n",
       "      <td>w</td>\n",
       "      <td>o</td>\n",
       "      <td>p</td>\n",
       "      <td>n</td>\n",
       "      <td>n</td>\n",
       "      <td>m</td>\n",
       "    </tr>\n",
       "    <tr>\n",
       "      <th>3</th>\n",
       "      <td>p</td>\n",
       "      <td>x</td>\n",
       "      <td>y</td>\n",
       "      <td>w</td>\n",
       "      <td>t</td>\n",
       "      <td>p</td>\n",
       "      <td>f</td>\n",
       "      <td>c</td>\n",
       "      <td>n</td>\n",
       "      <td>n</td>\n",
       "      <td>...</td>\n",
       "      <td>s</td>\n",
       "      <td>w</td>\n",
       "      <td>w</td>\n",
       "      <td>p</td>\n",
       "      <td>w</td>\n",
       "      <td>o</td>\n",
       "      <td>p</td>\n",
       "      <td>k</td>\n",
       "      <td>s</td>\n",
       "      <td>u</td>\n",
       "    </tr>\n",
       "    <tr>\n",
       "      <th>4</th>\n",
       "      <td>e</td>\n",
       "      <td>x</td>\n",
       "      <td>s</td>\n",
       "      <td>g</td>\n",
       "      <td>f</td>\n",
       "      <td>n</td>\n",
       "      <td>f</td>\n",
       "      <td>w</td>\n",
       "      <td>b</td>\n",
       "      <td>k</td>\n",
       "      <td>...</td>\n",
       "      <td>s</td>\n",
       "      <td>w</td>\n",
       "      <td>w</td>\n",
       "      <td>p</td>\n",
       "      <td>w</td>\n",
       "      <td>o</td>\n",
       "      <td>e</td>\n",
       "      <td>n</td>\n",
       "      <td>a</td>\n",
       "      <td>g</td>\n",
       "    </tr>\n",
       "  </tbody>\n",
       "</table>\n",
       "<p>5 rows × 22 columns</p>\n",
       "</div>"
      ],
      "text/plain": [
       "  poisonous cap-shape cap-surface cap-color bruises odor gill-attachment  \\\n",
       "0         p         x           s         n       t    p               f   \n",
       "1         e         x           s         y       t    a               f   \n",
       "2         e         b           s         w       t    l               f   \n",
       "3         p         x           y         w       t    p               f   \n",
       "4         e         x           s         g       f    n               f   \n",
       "\n",
       "  gill-spacing gill-size gill-color  ... stalk-surface-below-ring  \\\n",
       "0            c         n          k  ...                        s   \n",
       "1            c         b          k  ...                        s   \n",
       "2            c         b          n  ...                        s   \n",
       "3            c         n          n  ...                        s   \n",
       "4            w         b          k  ...                        s   \n",
       "\n",
       "  stalk-color-above-ring stalk-color-below-ring veil-type veil-color  \\\n",
       "0                      w                      w         p          w   \n",
       "1                      w                      w         p          w   \n",
       "2                      w                      w         p          w   \n",
       "3                      w                      w         p          w   \n",
       "4                      w                      w         p          w   \n",
       "\n",
       "  ring-number ring-type spore-print-color population habitat  \n",
       "0           o         p                 k          s       u  \n",
       "1           o         p                 n          n       g  \n",
       "2           o         p                 n          n       m  \n",
       "3           o         p                 k          s       u  \n",
       "4           o         e                 n          a       g  \n",
       "\n",
       "[5 rows x 22 columns]"
      ]
     },
     "execution_count": 3,
     "metadata": {},
     "output_type": "execute_result"
    }
   ],
   "source": [
    "mushroom_data = pd.read_csv('mushrooms-full-dataset.csv')\n",
    "mushroom_data.head()"
   ]
  },
  {
   "cell_type": "code",
   "execution_count": 4,
   "id": "447c1aaa",
   "metadata": {},
   "outputs": [
    {
     "data": {
      "text/plain": [
       "e    4208\n",
       "p    3916\n",
       "Name: poisonous, dtype: int64"
      ]
     },
     "execution_count": 4,
     "metadata": {},
     "output_type": "execute_result"
    }
   ],
   "source": [
    "mushroom_data.poisonous.value_counts()"
   ]
  },
  {
   "cell_type": "code",
   "execution_count": 5,
   "id": "6cf5dfdc",
   "metadata": {},
   "outputs": [
    {
     "data": {
      "text/plain": [
       "poisonous                   0\n",
       "cap-shape                   0\n",
       "cap-surface                 0\n",
       "cap-color                   0\n",
       "bruises                     0\n",
       "odor                        0\n",
       "gill-attachment             0\n",
       "gill-spacing                0\n",
       "gill-size                   0\n",
       "gill-color                  0\n",
       "stalk-shape                 0\n",
       "stalk-surface-above-ring    0\n",
       "stalk-surface-below-ring    0\n",
       "stalk-color-above-ring      0\n",
       "stalk-color-below-ring      0\n",
       "veil-type                   0\n",
       "veil-color                  0\n",
       "ring-number                 0\n",
       "ring-type                   0\n",
       "spore-print-color           0\n",
       "population                  0\n",
       "habitat                     0\n",
       "dtype: int64"
      ]
     },
     "execution_count": 5,
     "metadata": {},
     "output_type": "execute_result"
    }
   ],
   "source": [
    "mushroom_data.isna().sum()"
   ]
  },
  {
   "cell_type": "markdown",
   "id": "47b611c5",
   "metadata": {},
   "source": [
    "## Preprocessing"
   ]
  },
  {
   "cell_type": "markdown",
   "id": "67e8511b",
   "metadata": {},
   "source": [
    "#### Define the target and the inputs"
   ]
  },
  {
   "cell_type": "code",
   "execution_count": 8,
   "id": "e3b7d07c",
   "metadata": {},
   "outputs": [],
   "source": [
    "target = mushroom_data.poisonous\n",
    "inputs = mushroom_data.drop('poisonous', axis=1)"
   ]
  },
  {
   "cell_type": "markdown",
   "id": "0bc10b7d",
   "metadata": {},
   "source": [
    "#### Create a training and a testing dataset"
   ]
  },
  {
   "cell_type": "code",
   "execution_count": 9,
   "id": "d52aeeb1",
   "metadata": {},
   "outputs": [],
   "source": [
    "X_train, X_test, y_train, y_test = train_test_split(inputs, target,\n",
    "                                                    test_size=0.2,\n",
    "                                                    random_state=365,\n",
    "                                                    stratify=taret)"
   ]
  },
  {
   "cell_type": "markdown",
   "id": "8a6dc02f",
   "metadata": {},
   "source": [
    "#### Check the result from the stratification"
   ]
  },
  {
   "cell_type": "code",
   "execution_count": 14,
   "id": "9c566951",
   "metadata": {},
   "outputs": [
    {
     "data": {
      "text/plain": [
       "e    0.517971\n",
       "p    0.482029\n",
       "Name: poisonous, dtype: float64"
      ]
     },
     "execution_count": 14,
     "metadata": {},
     "output_type": "execute_result"
    }
   ],
   "source": [
    "target.value_counts(normalize=True)"
   ]
  },
  {
   "cell_type": "code",
   "execution_count": 15,
   "id": "bea8870c",
   "metadata": {
    "scrolled": true
   },
   "outputs": [
    {
     "data": {
      "text/plain": [
       "e    0.517926\n",
       "p    0.482074\n",
       "Name: poisonous, dtype: float64"
      ]
     },
     "execution_count": 15,
     "metadata": {},
     "output_type": "execute_result"
    }
   ],
   "source": [
    "y_train.value_counts(normalize=True)"
   ]
  },
  {
   "cell_type": "markdown",
   "id": "3c6a7c0a",
   "metadata": {},
   "source": [
    "#### Define a separate encoder for the target and the inputs "
   ]
  },
  {
   "cell_type": "code",
   "execution_count": 16,
   "id": "98764d15",
   "metadata": {},
   "outputs": [],
   "source": [
    "enc_i = OrdinalEncoder()\n",
    "enc_t = LabelEncoder()"
   ]
  },
  {
   "cell_type": "markdown",
   "id": "e22daa1f",
   "metadata": {},
   "source": [
    "#### Apply the fit_transform() method on the training data and the transform() method on the test data."
   ]
  },
  {
   "cell_type": "code",
   "execution_count": 17,
   "id": "437b2dba",
   "metadata": {},
   "outputs": [],
   "source": [
    "X_train_trans = enc_i.fit_transform(X_train)\n",
    "X_test_trans = enc_i.transform(X_test)\n",
    "\n",
    "y_train_trans = enc_t.fit_transform(y_train)\n",
    "y_test_trans = enc_t.transform(y_test)"
   ]
  },
  {
   "cell_type": "code",
   "execution_count": 18,
   "id": "11b57ce0",
   "metadata": {},
   "outputs": [
    {
     "data": {
      "text/plain": [
       "array([[3., 3., 2., ..., 7., 1., 6.],\n",
       "       [5., 3., 4., ..., 2., 5., 4.],\n",
       "       [2., 0., 4., ..., 2., 4., 0.],\n",
       "       ...,\n",
       "       [2., 3., 2., ..., 7., 4., 0.],\n",
       "       [3., 0., 8., ..., 7., 3., 1.],\n",
       "       [5., 0., 3., ..., 3., 4., 0.]])"
      ]
     },
     "execution_count": 18,
     "metadata": {},
     "output_type": "execute_result"
    }
   ],
   "source": [
    "X_train_trans"
   ]
  },
  {
   "cell_type": "markdown",
   "id": "aab62059",
   "metadata": {},
   "source": [
    "## Rescaling"
   ]
  },
  {
   "cell_type": "markdown",
   "id": "ab2f7c79",
   "metadata": {},
   "source": [
    "### In order for the SVC to work correctly the inputs need to be rescaled to the range (-1, 1)"
   ]
  },
  {
   "cell_type": "code",
   "execution_count": 19,
   "id": "c3e641a5",
   "metadata": {},
   "outputs": [],
   "source": [
    "scaler = MinMaxScaler(feature_range=(-1,1))\n",
    "\n",
    "X_train_scaled = scaler.fit_transform(X_train_trans)\n",
    "X_test_scaled = scaler.transform(X_test_trans)"
   ]
  },
  {
   "cell_type": "markdown",
   "id": "7394656a",
   "metadata": {},
   "source": [
    "## Classification"
   ]
  },
  {
   "cell_type": "code",
   "execution_count": 26,
   "id": "3fd29595",
   "metadata": {},
   "outputs": [
    {
     "data": {
      "text/plain": [
       "SVC(kernel='linear')"
      ]
     },
     "execution_count": 26,
     "metadata": {},
     "output_type": "execute_result"
    }
   ],
   "source": [
    "C = 1.0\n",
    "\n",
    "svc = svm.SVC(kernel='linear', C= C)\n",
    "\n",
    "svc.fit(X_train_scaled, y_train_trans)"
   ]
  },
  {
   "cell_type": "code",
   "execution_count": 28,
   "id": "76785ea2",
   "metadata": {},
   "outputs": [],
   "source": [
    "y_pred = svc.predict(X_test_scaled)"
   ]
  },
  {
   "cell_type": "markdown",
   "id": "cf93db43",
   "metadata": {},
   "source": [
    "## Evaluation"
   ]
  },
  {
   "cell_type": "markdown",
   "id": "27ef4791",
   "metadata": {},
   "source": [
    "#### Evaluate the model on the test data"
   ]
  },
  {
   "cell_type": "code",
   "execution_count": 46,
   "id": "22b6eb4b",
   "metadata": {},
   "outputs": [
    {
     "data": {
      "image/png": "[encoded data removed]",
      "text/plain": [
       "<Figure size 360x360 with 1 Axes>"
      ]
     },
     "metadata": {
      "needs_background": "light"
     },
     "output_type": "display_data"
    }
   ],
   "source": [
    "plt.figure(figsize=(5,5))\n",
    "\n",
    "plt.title('Confusion matrix of actual test categories with prediction\\n', fontdict={'fontsize' : 15})\n",
    "\n",
    "sns.heatmap(confusion_matrix(y_test_trans, y_pred), \n",
    "            annot= True, cbar= False, fmt='.0f', cmap='Blues')\n",
    "\n",
    "plt.xlabel('Predicted label', fontdict={'fontsize' : 12})\n",
    "plt.ylabel('True label', fontdict={'fontsize' : 12})\n",
    "\n",
    "plt.show()"
   ]
  },
  {
   "cell_type": "code",
   "execution_count": 29,
   "id": "671f1c07",
   "metadata": {},
   "outputs": [
    {
     "name": "stdout",
     "output_type": "stream",
     "text": [
      "              precision    recall  f1-score   support\n",
      "\n",
      "           0       0.94      0.97      0.96       842\n",
      "           1       0.97      0.93      0.95       783\n",
      "\n",
      "    accuracy                           0.95      1625\n",
      "   macro avg       0.95      0.95      0.95      1625\n",
      "weighted avg       0.95      0.95      0.95      1625\n",
      "\n"
     ]
    }
   ],
   "source": [
    "print(classification_report(y_test_trans, y_pred))"
   ]
  },
  {
   "cell_type": "markdown",
   "id": "53cbd2dd",
   "metadata": {},
   "source": [
    "## Hyperparameter Tuning with GridSearchCV"
   ]
  },
  {
   "cell_type": "markdown",
   "id": "8f3f8002",
   "metadata": {},
   "source": [
    "### Choose the best kernel and optimal C parameter based on Cross Validation of the training data"
   ]
  },
  {
   "cell_type": "code",
   "execution_count": 58,
   "id": "3f595268",
   "metadata": {},
   "outputs": [],
   "source": [
    "tuned_parameters = [\n",
    "    {\"kernel\": [\"linear\"], \"C\": [1, 10]},\n",
    "    {\"kernel\": [\"poly\"], \"C\":[1, 10]},\n",
    "    {\"kernel\": [\"rbf\"], \"gamma\": [1e-3, 1e-4], \"C\": [1, 10]}\n",
    "]"
   ]
  },
  {
   "cell_type": "code",
   "execution_count": 61,
   "id": "3793c24b",
   "metadata": {},
   "outputs": [],
   "source": [
    "scores = [\"precision\", \"recall\"]"
   ]
  },
  {
   "cell_type": "code",
   "execution_count": 64,
   "id": "1d9f0260",
   "metadata": {},
   "outputs": [
    {
     "name": "stdout",
     "output_type": "stream",
     "text": [
      "Tuning hyper-parameter for precision\n",
      "\n",
      "Best parameters set found on development set:\n",
      "\n",
      "{'C': 1, 'kernel': 'poly'} \n",
      "\n",
      "Grid scores on development set:\n",
      "\n",
      "0.957 (+/- 0.014 for {'C': 1, 'kernel': 'linear'}\n",
      "\n",
      "0.952 (+/- 0.015 for {'C': 10, 'kernel': 'linear'}\n",
      "\n",
      "1.0 (+/- 0.0 for {'C': 1, 'kernel': 'poly'}\n",
      "\n",
      "1.0 (+/- 0.0 for {'C': 10, 'kernel': 'poly'}\n",
      "\n",
      "0.945 (+/- 0.007 for {'C': 1, 'gamma': 0.001, 'kernel': 'rbf'}\n",
      "\n",
      "0.94 (+/- 0.009 for {'C': 1, 'gamma': 0.0001, 'kernel': 'rbf'}\n",
      "\n",
      "0.954 (+/- 0.015 for {'C': 10, 'gamma': 0.001, 'kernel': 'rbf'}\n",
      "\n",
      "0.945 (+/- 0.007 for {'C': 10, 'gamma': 0.0001, 'kernel': 'rbf'}\n",
      "\n",
      "Detailed Classification report:\n",
      "\n",
      "The model is trained on the full development set.\n",
      "The scores are computed on the full evaluation set.\n",
      "\n",
      "              precision    recall  f1-score   support\n",
      "\n",
      "           0       1.00      1.00      1.00       842\n",
      "           1       1.00      1.00      1.00       783\n",
      "\n",
      "    accuracy                           1.00      1625\n",
      "   macro avg       1.00      1.00      1.00      1625\n",
      "weighted avg       1.00      1.00      1.00      1625\n",
      " \n",
      "\n",
      "Tuning hyper-parameter for recall\n",
      "\n",
      "Best parameters set found on development set:\n",
      "\n",
      "{'C': 1, 'kernel': 'poly'} \n",
      "\n",
      "Grid scores on development set:\n",
      "\n",
      "0.943 (+/- 0.03 for {'C': 1, 'kernel': 'linear'}\n",
      "\n",
      "0.952 (+/- 0.014 for {'C': 10, 'kernel': 'linear'}\n",
      "\n",
      "1.0 (+/- 0.0 for {'C': 1, 'kernel': 'poly'}\n",
      "\n",
      "1.0 (+/- 0.0 for {'C': 10, 'kernel': 'poly'}\n",
      "\n",
      "0.896 (+/- 0.007 for {'C': 1, 'gamma': 0.001, 'kernel': 'rbf'}\n",
      "\n",
      "0.815 (+/- 0.029 for {'C': 1, 'gamma': 0.0001, 'kernel': 'rbf'}\n",
      "\n",
      "0.937 (+/- 0.006 for {'C': 10, 'gamma': 0.001, 'kernel': 'rbf'}\n",
      "\n",
      "0.896 (+/- 0.007 for {'C': 10, 'gamma': 0.0001, 'kernel': 'rbf'}\n",
      "\n",
      "Detailed Classification report:\n",
      "\n",
      "The model is trained on the full development set.\n",
      "The scores are computed on the full evaluation set.\n",
      "\n",
      "              precision    recall  f1-score   support\n",
      "\n",
      "           0       1.00      1.00      1.00       842\n",
      "           1       1.00      1.00      1.00       783\n",
      "\n",
      "    accuracy                           1.00      1625\n",
      "   macro avg       1.00      1.00      1.00      1625\n",
      "weighted avg       1.00      1.00      1.00      1625\n",
      " \n",
      "\n"
     ]
    }
   ],
   "source": [
    "svc = svm.SVC()\n",
    "\n",
    "for score in scores:\n",
    "    print(f'Tuning hyper-parameter for {score}\\n')\n",
    "    \n",
    "    clf = GridSearchCV(svm.SVC(), tuned_parameters, scoring= score)\n",
    "    clf.fit(X_train_scaled, y_train_trans)\n",
    "    \n",
    "    print(f'Best parameters set found on development set:\\n')\n",
    "    print(clf.best_params_, '\\n')\n",
    "    print('Grid scores on development set:\\n')\n",
    "    \n",
    "    means = clf.cv_results_['mean_test_score']\n",
    "    stds = clf.cv_results_['std_test_score']\n",
    "    \n",
    "    for mean, std, params in zip(means, stds, clf.cv_results_['params']):\n",
    "        print(f'{round(mean,3)} (+/- {round(std * 2,3)} for {params}\\n')\n",
    "    \n",
    "    print('Detailed Classification report:\\n')\n",
    "    print('The model is trained on the full development set.')\n",
    "    print('The scores are computed on the full evaluation set.\\n')\n",
    "    \n",
    "    y_true, y_pred = y_test_trans, clf.predict(X_test_scaled)\n",
    "    \n",
    "    print(classification_report(y_true, y_pred), '\\n')\n",
    "    \n",
    "    "
   ]
  }
 ],
 "metadata": {
  "kernelspec": {
   "display_name": "Python 3 (ipykernel)",
   "language": "python",
   "name": "python3"
  },
  "language_info": {
   "codemirror_mode": {
    "name": "ipython",
    "version": 3
   },
   "file_extension": ".py",
   "mimetype": "text/x-python",
   "name": "python",
   "nbconvert_exporter": "python",
   "pygments_lexer": "ipython3",
   "version": "3.9.12"
  }
 },
 "nbformat": 4,
 "nbformat_minor": 5
}
